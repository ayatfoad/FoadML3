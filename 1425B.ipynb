{
  "metadata": {
    "language_info": {
      "codemirror_mode": {
        "name": "python",
        "version": 3
      },
      "file_extension": ".py",
      "mimetype": "text/x-python",
      "name": "python",
      "nbconvert_exporter": "python",
      "pygments_lexer": "ipython3",
      "version": "3.8"
    },
    "kernelspec": {
      "name": "python",
      "display_name": "Python (Pyodide)",
      "language": "python"
    }
  },
  "nbformat_minor": 4,
  "nbformat": 4,
  "cells": [
    {
      "cell_type": "code",
      "source": "def onerun(df,rst,bst,counter,turn): #rst: Red Status bst:Blue Status\n    finish=1\n    for col in range(len(df)):            \n            if df[rst][col].startswith('1') and turn=='R':\n                counter+=1\n                df[rst][col],df[col][rst]='R'+str(counter),'R'+str(counter)\n                rst=col\n                turn= 'B'\n                finish=0\n                break\n    for col in range(len(df)):\n            if df[bst][col].startswith('1') and turn == 'B' :\n                counter+=1\n                df[bst][col],df[col][bst]='B'+str(counter) ,'B'+str(counter)\n                bst=col\n                turn= 'R'\n                print('bst',bst)\n                finish=0\n                break                        \n            \n           \n    return(df,rst,bst,counter,turn,finish)\n",
      "metadata": {
        "trusted": true
      },
      "execution_count": 103,
      "outputs": []
    },
    {
      "cell_type": "code",
      "source": "import pandas as pd\nnode=5\nrelno=6\nrel=[1,2,2,3,3,4,4,1,1,5,5,1]\nl=(int(len(rel)/2))\ncounter,result=0,0\nrel= [x-1 for x in rel]\ndf=pd.DataFrame([['' for i in range(1,node+1)] for i in range(1,node+1)])\n# print(rel)\nfor i in range(l):    \n    df[rel[2*i]][rel[2*i+1]]+='1'\n    df[rel[2*i+1]][rel[2*i]]+='1'\nprint(df)\nturn='R'\nrst,bst=0,0\ndfmain=df\n\nfor all in range(int(len(df))):\n    \n    for row in range(int(len(df))):\n        df,rst,bst,counter,turn,finish= onerun(df,rst,bst,counter,turn)  \n        if finish==1:\n            result+=1\n            dfold=df\n            break\n        print(df)\n\n    print('----------------------rst,bst,counter',rst,bst,counter)\n# print('sum:',counter)",
      "metadata": {
        "trusted": true
      },
      "execution_count": 104,
      "outputs": [
        {
          "name": "stdout",
          "text": "    0  1  2  3   4\n0      1     1  11\n1   1     1       \n2      1     1    \n3   1     1       \n4  11             \nbst 3\n    0   1  2   3   4\n0      R1     B2  11\n1  R1      1        \n2       1      1    \n3  B2      1        \n4  11               \n----------------------rst,bst,counter 1 3 2\nbst 2\n    0   1   2   3   4\n0      R1      B2  11\n1  R1      R3        \n2      R3      B4    \n3  B2      B4        \n4  11                \n----------------------rst,bst,counter 2 2 4\n",
          "output_type": "stream"
        }
      ]
    },
    {
      "cell_type": "code",
      "source": "",
      "metadata": {},
      "execution_count": null,
      "outputs": []
    },
    {
      "cell_type": "code",
      "source": "",
      "metadata": {},
      "execution_count": null,
      "outputs": []
    },
    {
      "cell_type": "code",
      "source": "",
      "metadata": {},
      "execution_count": null,
      "outputs": []
    }
  ]
}